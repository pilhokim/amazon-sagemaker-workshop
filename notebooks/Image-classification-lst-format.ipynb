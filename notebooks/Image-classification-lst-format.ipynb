{
 "cells": [
  {
   "cell_type": "markdown",
   "metadata": {},
   "source": [
    "# Image classification training with image format demo\n",
    "\n",
    "1. [Introduction](#Introduction)\n",
    "2. [Prerequisites and Preprocessing](#Prequisites-and-Preprocessing)\n",
    "  1. [Permissions and environment variables](#Permissions-and-environment-variables)\n",
    "  2. [Prepare the data](#Prepare-the-data)\n",
    "3. [Fine-tuning The Image Classification Model](#Fine-tuning-the-Image-classification-model)\n",
    "  1. [Training parameters](#Training-parameters)\n",
    "  2. [Training](#Training)\n",
    "4. [Set Up Hosting For The Model](#Set-up-hosting-for-the-model)\n",
    "  1. [Create model](#Create-model)\n",
    "  2. [Create endpoint configuration](#Create-endpoint-configuration)\n",
    "  3. [Create endpoint](#Create-endpoint)\n",
    "  4. [Perform inference](#Perform-inference)"
   ]
  },
  {
   "cell_type": "markdown",
   "metadata": {},
   "source": [
    "## Introduction\n",
    "\n",
    "Welcome to our end-to-end example of the image classification algorithm training with image format. In this demo, we will use the Amazon sagemaker image classification algorithm in transfer learning mode to fine-tune a pre-trained model (trained on imagenet data) to learn to classify a new dataset. In particular, the pre-trained model will be fine-tuned using [caltech-256 dataset](http://www.vision.caltech.edu/Image_Datasets/Caltech256/). \n",
    "\n",
    "To get started, we need to set up the environment with a few prerequisite steps, for permissions, configurations, and so on."
   ]
  },
  {
   "cell_type": "markdown",
   "metadata": {},
   "source": [
    "## Prequisites and Preprocessing\n",
    "\n",
    "### Permissions and environment variables\n",
    "\n",
    "Here we set up the linkage and authentication to AWS services. There are three parts to this:\n",
    "\n",
    "* The roles used to give learning and hosting access to your data. This will automatically be obtained from the role used to start the notebook\n",
    "* The S3 bucket that you want to use for training and model data\n",
    "* The Amazon sagemaker image classification docker image which need not be changed"
   ]
  },
  {
   "cell_type": "code",
   "execution_count": 1,
   "metadata": {},
   "outputs": [
    {
     "name": "stdout",
     "output_type": "stream",
     "text": [
      "CPU times: user 700 ms, sys: 288 ms, total: 988 ms\n",
      "Wall time: 655 ms\n"
     ]
    }
   ],
   "source": [
    "%%time\n",
    "import boto3\n",
    "from sagemaker import get_execution_role\n",
    "\n",
    "role = get_execution_role()\n",
    "\n",
    "bucket='pilho-sagemaker-ai-workshop' # customize to your bucket\n",
    "containers = {'us-west-2': '433757028032.dkr.ecr.us-west-2.amazonaws.com/image-classification:latest',\n",
    "              'us-east-1': '811284229777.dkr.ecr.us-east-1.amazonaws.com/image-classification:latest',\n",
    "              'us-east-2': '825641698319.dkr.ecr.us-east-2.amazonaws.com/image-classification:latest',\n",
    "              'eu-west-1': '685385470294.dkr.ecr.eu-west-1.amazonaws.com/image-classification:latest'}\n",
    "training_image = containers[boto3.Session().region_name]"
   ]
  },
  {
   "cell_type": "markdown",
   "metadata": {},
   "source": [
    "## Fine-tuning the Image classification model\n",
    "\n",
    "### Prepare the data\n",
    "The caltech 256 dataset consist of images from 257 categories (the last one being a clutter category) and has 30k images with a minimum of 80 images and a maximum of about 800 images per category. \n",
    "\n",
    "The image classification algorithm can take two types of input formats. The first is a [RecordIO format](https://mxnet.incubator.apache.org/tutorials/basic/record_io.html) (content type: application/x-recordio) and the other is a [lst format](https://mxnet.incubator.apache.org/how_to/recordio.html?highlight=im2rec) (content type: application/x-image). Files for both these formats are available at http://data.dmlc.ml/mxnet/data/caltech-256/. In this example, we will use the lst format for training and use the training/validation split [specified here](http://data.dmlc.ml/mxnet/data/caltech-256/)."
   ]
  },
  {
   "cell_type": "code",
   "execution_count": 2,
   "metadata": {},
   "outputs": [],
   "source": [
    "import os\n",
    "import urllib.request\n",
    "\n",
    "def download(url):\n",
    "    filename = url.split(\"/\")[-1]\n",
    "    if not os.path.exists(filename):\n",
    "        urllib.request.urlretrieve(url, '/tmp/'+filename)\n",
    "\n",
    "\n",
    "# Caltech-256 image files\n",
    "download('http://www.vision.caltech.edu/Image_Datasets/Caltech256/256_ObjectCategories.tar')\n",
    "!tar -xf /tmp/256_ObjectCategories.tar -C /tmp\n",
    "\n",
    "# Tool for creating lst file\n",
    "download('https://raw.githubusercontent.com/apache/incubator-mxnet/master/tools/im2rec.py')"
   ]
  },
  {
   "cell_type": "code",
   "execution_count": 3,
   "metadata": {},
   "outputs": [
    {
     "name": "stdout",
     "output_type": "stream",
     "text": [
      "001.ak47 0\n",
      "002.american-flag 1\n",
      "003.backpack 2\n",
      "004.baseball-bat 3\n",
      "005.baseball-glove 4\n",
      "006.basketball-hoop 5\n",
      "007.bat 6\n",
      "008.bathtub 7\n",
      "009.bear 8\n",
      "010.beer-mug 9\n",
      "011.billiards 10\n",
      "012.binoculars 11\n",
      "013.birdbath 12\n",
      "014.blimp 13\n",
      "015.bonsai-101 14\n",
      "016.boom-box 15\n",
      "017.bowling-ball 16\n",
      "018.bowling-pin 17\n",
      "019.boxing-glove 18\n",
      "020.brain-101 19\n",
      "021.breadmaker 20\n",
      "022.buddha-101 21\n",
      "023.bulldozer 22\n",
      "024.butterfly 23\n",
      "025.cactus 24\n",
      "026.cake 25\n",
      "027.calculator 26\n",
      "028.camel 27\n",
      "029.cannon 28\n",
      "030.canoe 29\n",
      "031.car-tire 30\n",
      "032.cartman 31\n",
      "033.cd 32\n",
      "034.centipede 33\n",
      "035.cereal-box 34\n",
      "036.chandelier-101 35\n",
      "037.chess-board 36\n",
      "038.chimp 37\n",
      "039.chopsticks 38\n",
      "040.cockroach 39\n",
      "041.coffee-mug 40\n",
      "042.coffin 41\n",
      "043.coin 42\n",
      "044.comet 43\n",
      "045.computer-keyboard 44\n",
      "046.computer-monitor 45\n",
      "047.computer-mouse 46\n",
      "048.conch 47\n",
      "049.cormorant 48\n",
      "050.covered-wagon 49\n",
      "051.cowboy-hat 50\n",
      "052.crab-101 51\n",
      "053.desk-globe 52\n",
      "054.diamond-ring 53\n",
      "055.dice 54\n",
      "056.dog 55\n",
      "057.dolphin-101 56\n",
      "058.doorknob 57\n",
      "059.drinking-straw 58\n",
      "060.duck 59\n",
      "061.dumb-bell 60\n",
      "062.eiffel-tower 61\n",
      "063.electric-guitar-101 62\n",
      "064.elephant-101 63\n",
      "065.elk 64\n",
      "066.ewer-101 65\n",
      "067.eyeglasses 66\n",
      "068.fern 67\n",
      "069.fighter-jet 68\n",
      "070.fire-extinguisher 69\n",
      "071.fire-hydrant 70\n",
      "072.fire-truck 71\n",
      "073.fireworks 72\n",
      "074.flashlight 73\n",
      "075.floppy-disk 74\n",
      "076.football-helmet 75\n",
      "077.french-horn 76\n",
      "078.fried-egg 77\n",
      "079.frisbee 78\n",
      "080.frog 79\n",
      "081.frying-pan 80\n",
      "082.galaxy 81\n",
      "083.gas-pump 82\n",
      "084.giraffe 83\n",
      "085.goat 84\n",
      "086.golden-gate-bridge 85\n",
      "087.goldfish 86\n",
      "088.golf-ball 87\n",
      "089.goose 88\n",
      "090.gorilla 89\n",
      "091.grand-piano-101 90\n",
      "092.grapes 91\n",
      "093.grasshopper 92\n",
      "094.guitar-pick 93\n",
      "095.hamburger 94\n",
      "096.hammock 95\n",
      "097.harmonica 96\n",
      "098.harp 97\n",
      "099.harpsichord 98\n",
      "100.hawksbill-101 99\n",
      "101.head-phones 100\n",
      "102.helicopter-101 101\n",
      "103.hibiscus 102\n",
      "104.homer-simpson 103\n",
      "105.horse 104\n",
      "106.horseshoe-crab 105\n",
      "107.hot-air-balloon 106\n",
      "108.hot-dog 107\n",
      "109.hot-tub 108\n",
      "110.hourglass 109\n",
      "111.house-fly 110\n",
      "112.human-skeleton 111\n",
      "113.hummingbird 112\n",
      "114.ibis-101 113\n",
      "115.ice-cream-cone 114\n",
      "116.iguana 115\n",
      "117.ipod 116\n",
      "118.iris 117\n",
      "119.jesus-christ 118\n",
      "120.joy-stick 119\n",
      "121.kangaroo-101 120\n",
      "122.kayak 121\n",
      "123.ketch-101 122\n",
      "124.killer-whale 123\n",
      "125.knife 124\n",
      "126.ladder 125\n",
      "127.laptop-101 126\n",
      "128.lathe 127\n",
      "129.leopards-101 128\n",
      "130.license-plate 129\n",
      "131.lightbulb 130\n",
      "132.light-house 131\n",
      "133.lightning 132\n",
      "134.llama-101 133\n",
      "135.mailbox 134\n",
      "136.mandolin 135\n",
      "137.mars 136\n",
      "138.mattress 137\n",
      "139.megaphone 138\n",
      "140.menorah-101 139\n",
      "141.microscope 140\n",
      "142.microwave 141\n",
      "143.minaret 142\n",
      "144.minotaur 143\n",
      "145.motorbikes-101 144\n",
      "146.mountain-bike 145\n",
      "147.mushroom 146\n",
      "148.mussels 147\n",
      "149.necktie 148\n",
      "150.octopus 149\n",
      "151.ostrich 150\n",
      "152.owl 151\n",
      "153.palm-pilot 152\n",
      "154.palm-tree 153\n",
      "155.paperclip 154\n",
      "156.paper-shredder 155\n",
      "157.pci-card 156\n",
      "158.penguin 157\n",
      "159.people 158\n",
      "160.pez-dispenser 159\n",
      "161.photocopier 160\n",
      "162.picnic-table 161\n",
      "163.playing-card 162\n",
      "164.porcupine 163\n",
      "165.pram 164\n",
      "166.praying-mantis 165\n",
      "167.pyramid 166\n",
      "168.raccoon 167\n",
      "169.radio-telescope 168\n",
      "170.rainbow 169\n",
      "171.refrigerator 170\n",
      "172.revolver-101 171\n",
      "173.rifle 172\n",
      "174.rotary-phone 173\n",
      "175.roulette-wheel 174\n",
      "176.saddle 175\n",
      "177.saturn 176\n",
      "178.school-bus 177\n",
      "179.scorpion-101 178\n",
      "180.screwdriver 179\n",
      "181.segway 180\n",
      "182.self-propelled-lawn-mower 181\n",
      "183.sextant 182\n",
      "184.sheet-music 183\n",
      "185.skateboard 184\n",
      "186.skunk 185\n",
      "187.skyscraper 186\n",
      "188.smokestack 187\n",
      "189.snail 188\n",
      "190.snake 189\n",
      "191.sneaker 190\n",
      "192.snowmobile 191\n",
      "193.soccer-ball 192\n",
      "194.socks 193\n",
      "195.soda-can 194\n",
      "196.spaghetti 195\n",
      "197.speed-boat 196\n",
      "198.spider 197\n",
      "199.spoon 198\n",
      "200.stained-glass 199\n",
      "201.starfish-101 200\n",
      "202.steering-wheel 201\n",
      "203.stirrups 202\n",
      "204.sunflower-101 203\n",
      "205.superman 204\n",
      "206.sushi 205\n",
      "207.swan 206\n",
      "208.swiss-army-knife 207\n",
      "209.sword 208\n",
      "210.syringe 209\n",
      "211.tambourine 210\n",
      "212.teapot 211\n",
      "213.teddy-bear 212\n",
      "214.teepee 213\n",
      "215.telephone-box 214\n",
      "216.tennis-ball 215\n",
      "217.tennis-court 216\n",
      "218.tennis-racket 217\n",
      "219.theodolite 218\n",
      "220.toaster 219\n",
      "221.tomato 220\n",
      "222.tombstone 221\n",
      "223.top-hat 222\n",
      "224.touring-bike 223\n",
      "225.tower-pisa 224\n",
      "226.traffic-light 225\n",
      "227.treadmill 226\n",
      "228.triceratops 227\n",
      "229.tricycle 228\n",
      "230.trilobite-101 229\n",
      "231.tripod 230\n",
      "232.t-shirt 231\n",
      "233.tuning-fork 232\n",
      "234.tweezer 233\n",
      "235.umbrella-101 234\n",
      "236.unicorn 235\n",
      "237.vcr 236\n",
      "238.video-projector 237\n",
      "239.washing-machine 238\n",
      "240.watch-101 239\n",
      "241.waterfall 240\n",
      "242.watermelon 241\n",
      "243.welding-mask 242\n",
      "244.wheelbarrow 243\n",
      "245.windmill 244\n",
      "246.wine-bottle 245\n",
      "247.xylophone 246\n",
      "248.yarmulke 247\n",
      "249.yo-yo 248\n",
      "250.zebra 249\n",
      "251.airplanes-101 250\n",
      "252.car-side-101 251\n",
      "253.faces-easy-101 252\n",
      "254.greyhound 253\n",
      "255.tennis-shoes 254\n",
      "256.toad 255\n",
      "257.clutter 256\n",
      "001.ak47 0\n",
      "002.american-flag 1\n",
      "003.backpack 2\n",
      "004.baseball-bat 3\n",
      "005.baseball-glove 4\n",
      "006.basketball-hoop 5\n",
      "007.bat 6\n",
      "008.bathtub 7\n",
      "009.bear 8\n",
      "010.beer-mug 9\n",
      "011.billiards 10\n",
      "012.binoculars 11\n",
      "013.birdbath 12\n",
      "014.blimp 13\n",
      "015.bonsai-101 14\n",
      "016.boom-box 15\n",
      "017.bowling-ball 16\n",
      "018.bowling-pin 17\n",
      "019.boxing-glove 18\n",
      "020.brain-101 19\n",
      "021.breadmaker 20\n",
      "022.buddha-101 21\n",
      "023.bulldozer 22\n",
      "024.butterfly 23\n",
      "025.cactus 24\n",
      "026.cake 25\n",
      "027.calculator 26\n",
      "028.camel 27\n",
      "029.cannon 28\n",
      "030.canoe 29\n",
      "031.car-tire 30\n",
      "032.cartman 31\n",
      "033.cd 32\n",
      "034.centipede 33\n",
      "035.cereal-box 34\n",
      "036.chandelier-101 35\n",
      "037.chess-board 36\n",
      "038.chimp 37\n",
      "039.chopsticks 38\n",
      "040.cockroach 39\n",
      "041.coffee-mug 40\n",
      "042.coffin 41\n",
      "043.coin 42\n",
      "044.comet 43\n",
      "045.computer-keyboard 44\n",
      "046.computer-monitor 45\n",
      "047.computer-mouse 46\n",
      "048.conch 47\n",
      "049.cormorant 48\n",
      "050.covered-wagon 49\n",
      "051.cowboy-hat 50\n",
      "052.crab-101 51\n",
      "053.desk-globe 52\n",
      "054.diamond-ring 53\n",
      "055.dice 54\n",
      "056.dog 55\n",
      "057.dolphin-101 56\n",
      "058.doorknob 57\n",
      "059.drinking-straw 58\n",
      "060.duck 59\n",
      "061.dumb-bell 60\n",
      "062.eiffel-tower 61\n",
      "063.electric-guitar-101 62\n",
      "064.elephant-101 63\n",
      "065.elk 64\n",
      "066.ewer-101 65\n",
      "067.eyeglasses 66\n",
      "068.fern 67\n",
      "069.fighter-jet 68\n",
      "070.fire-extinguisher 69\n",
      "071.fire-hydrant 70\n",
      "072.fire-truck 71\n",
      "073.fireworks 72\n",
      "074.flashlight 73\n",
      "075.floppy-disk 74\n",
      "076.football-helmet 75\n",
      "077.french-horn 76\n",
      "078.fried-egg 77\n",
      "079.frisbee 78\n",
      "080.frog 79\n",
      "081.frying-pan 80\n",
      "082.galaxy 81\n",
      "083.gas-pump 82\n",
      "084.giraffe 83\n",
      "085.goat 84\n",
      "086.golden-gate-bridge 85\n",
      "087.goldfish 86\n",
      "088.golf-ball 87\n",
      "089.goose 88\n",
      "090.gorilla 89\n",
      "091.grand-piano-101 90\n",
      "092.grapes 91\n",
      "093.grasshopper 92\n",
      "094.guitar-pick 93\n",
      "095.hamburger 94\n",
      "096.hammock 95\n",
      "097.harmonica 96\n",
      "098.harp 97\n",
      "099.harpsichord 98\n",
      "100.hawksbill-101 99\n",
      "101.head-phones 100\n",
      "102.helicopter-101 101\n",
      "103.hibiscus 102\n",
      "104.homer-simpson 103\n",
      "105.horse 104\n",
      "106.horseshoe-crab 105\n",
      "107.hot-air-balloon 106\n",
      "108.hot-dog 107\n",
      "109.hot-tub 108\n",
      "110.hourglass 109\n",
      "111.house-fly 110\n",
      "112.human-skeleton 111\n",
      "113.hummingbird 112\n",
      "114.ibis-101 113\n",
      "115.ice-cream-cone 114\n",
      "116.iguana 115\n",
      "117.ipod 116\n",
      "118.iris 117\n",
      "119.jesus-christ 118\n",
      "120.joy-stick 119\n",
      "121.kangaroo-101 120\n",
      "122.kayak 121\n",
      "123.ketch-101 122\n",
      "124.killer-whale 123\n",
      "125.knife 124\n",
      "126.ladder 125\n",
      "127.laptop-101 126\n",
      "128.lathe 127\n",
      "129.leopards-101 128\n",
      "130.license-plate 129\n",
      "131.lightbulb 130\n",
      "132.light-house 131\n",
      "133.lightning 132\n",
      "134.llama-101 133\n",
      "135.mailbox 134\n",
      "136.mandolin 135\n",
      "137.mars 136\n",
      "138.mattress 137\n",
      "139.megaphone 138\n",
      "140.menorah-101 139\n",
      "141.microscope 140\n",
      "142.microwave 141\n",
      "143.minaret 142\n",
      "144.minotaur 143\n",
      "145.motorbikes-101 144\n",
      "146.mountain-bike 145\n",
      "147.mushroom 146\n",
      "148.mussels 147\n",
      "149.necktie 148\n",
      "150.octopus 149\n",
      "151.ostrich 150\n",
      "152.owl 151\n",
      "153.palm-pilot 152\n",
      "154.palm-tree 153\n",
      "155.paperclip 154\n",
      "156.paper-shredder 155\n",
      "157.pci-card 156\n",
      "158.penguin 157\n",
      "159.people 158\n",
      "160.pez-dispenser 159\n",
      "161.photocopier 160\n",
      "162.picnic-table 161\n",
      "163.playing-card 162\n",
      "164.porcupine 163\n",
      "165.pram 164\n",
      "166.praying-mantis 165\n",
      "167.pyramid 166\n",
      "168.raccoon 167\n",
      "169.radio-telescope 168\n",
      "170.rainbow 169\n",
      "171.refrigerator 170\n",
      "172.revolver-101 171\n",
      "173.rifle 172\n",
      "174.rotary-phone 173\n",
      "175.roulette-wheel 174\n",
      "176.saddle 175\n",
      "177.saturn 176\n",
      "178.school-bus 177\n",
      "179.scorpion-101 178\n",
      "180.screwdriver 179\n",
      "181.segway 180\n",
      "182.self-propelled-lawn-mower 181\n",
      "183.sextant 182\n",
      "184.sheet-music 183\n",
      "185.skateboard 184\n",
      "186.skunk 185\n",
      "187.skyscraper 186\n",
      "188.smokestack 187\n",
      "189.snail 188\n",
      "190.snake 189\n",
      "191.sneaker 190\n",
      "192.snowmobile 191\n",
      "193.soccer-ball 192\n",
      "194.socks 193\n",
      "195.soda-can 194\n",
      "196.spaghetti 195\n",
      "197.speed-boat 196\n",
      "198.spider 197\n",
      "199.spoon 198\n",
      "200.stained-glass 199\n",
      "201.starfish-101 200\n",
      "202.steering-wheel 201\n",
      "203.stirrups 202\n",
      "204.sunflower-101 203\n",
      "205.superman 204\n",
      "206.sushi 205\n",
      "207.swan 206\n",
      "208.swiss-army-knife 207\n",
      "209.sword 208\n",
      "210.syringe 209\n",
      "211.tambourine 210\n",
      "212.teapot 211\n",
      "213.teddy-bear 212\n",
      "214.teepee 213\n",
      "215.telephone-box 214\n",
      "216.tennis-ball 215\n",
      "217.tennis-court 216\n",
      "218.tennis-racket 217\n",
      "219.theodolite 218\n",
      "220.toaster 219\n",
      "221.tomato 220\n",
      "222.tombstone 221\n",
      "223.top-hat 222\n",
      "224.touring-bike 223\n",
      "225.tower-pisa 224\n",
      "226.traffic-light 225\n",
      "227.treadmill 226\n",
      "228.triceratops 227\n",
      "229.tricycle 228\n",
      "230.trilobite-101 229\n",
      "231.tripod 230\n",
      "232.t-shirt 231\n",
      "233.tuning-fork 232\n",
      "234.tweezer 233\n",
      "235.umbrella-101 234\n",
      "236.unicorn 235\n",
      "237.vcr 236\n",
      "238.video-projector 237\n",
      "239.washing-machine 238\n",
      "240.watch-101 239\n",
      "241.waterfall 240\n",
      "242.watermelon 241\n",
      "243.welding-mask 242\n",
      "244.wheelbarrow 243\n",
      "245.windmill 244\n",
      "246.wine-bottle 245\n",
      "247.xylophone 246\n",
      "248.yarmulke 247\n",
      "249.yo-yo 248\n",
      "250.zebra 249\n",
      "251.airplanes-101 250\n",
      "252.car-side-101 251\n",
      "253.faces-easy-101 252\n",
      "254.greyhound 253\n",
      "255.tennis-shoes 254\n",
      "256.toad 255\n",
      "257.clutter 256\n"
     ]
    }
   ],
   "source": [
    "%%bash\n",
    "\n",
    "# Moving shuffled 60 images of each directory to the training folder\n",
    "mkdir -p /tmp/caltech_256_train_60\n",
    "for i in /tmp/256_ObjectCategories/*; do\n",
    "    c=`basename $i`\n",
    "    mkdir -p /tmp/caltech_256_train_60/$c\n",
    "    for j in `ls $i/*.jpg | shuf | head -n 60`; do\n",
    "        mv $j /tmp/caltech_256_train_60/$c/\n",
    "    done\n",
    "done\n",
    "\n",
    "python /tmp/im2rec.py --list --recursive /tmp/caltech-256-60-train /tmp/caltech_256_train_60/\n",
    "python /tmp/im2rec.py --list --recursive /tmp/caltech-256-60-val /tmp/256_ObjectCategories/"
   ]
  },
  {
   "cell_type": "markdown",
   "metadata": {},
   "source": [
    "A .lst file is a tab-separated file with three columns that contains a list of image files. The first column specifies the image index, the second column specifies the class label index for the image, and the third column specifies the relative path of the image file. The image index in the first column should be unique across all of the images. Here we make an image list file using the [im2rec](https://github.com/apache/incubator-mxnet/blob/master/tools/im2rec.py) tool from MXNet. You can also create the .lst file in your own way. An example of .lst file is shown as follows. "
   ]
  },
  {
   "cell_type": "code",
   "execution_count": 8,
   "metadata": {},
   "outputs": [
    {
     "name": "stdout",
     "output_type": "stream",
     "text": [
      "907\t7.000000\t008.bathtub/008_0205.jpg\n",
      "3839\t35.000000\t036.chandelier-101/036_0046.jpg\n",
      "20372\t194.000000\t195.soda-can/195_0041.jpg\n",
      "\n"
     ]
    }
   ],
   "source": [
    "!head -n 3 /tmp/caltech-256-60-train.lst > example.lst\n",
    "f = open('example.lst','r')\n",
    "lst_content = f.read()\n",
    "print(lst_content)"
   ]
  },
  {
   "cell_type": "markdown",
   "metadata": {},
   "source": [
    "Let's see sample images."
   ]
  },
  {
   "cell_type": "code",
   "execution_count": 11,
   "metadata": {},
   "outputs": [
    {
     "data": {
      "image/jpeg": "[encoded data removed]",
      "text/plain": [
       "<IPython.core.display.Image object>"
      ]
     },
     "execution_count": 11,
     "metadata": {},
     "output_type": "execute_result"
    }
   ],
   "source": [
    "from IPython.display import Image\n",
    "Image(\"/tmp/caltech_256_train_60/131.lightbulb/131_0005.jpg\")"
   ]
  },
  {
   "cell_type": "code",
   "execution_count": 16,
   "metadata": {},
   "outputs": [
    {
     "data": {
      "image/jpeg": "[encoded data removed]",
      "text/plain": [
       "<IPython.core.display.Image object>"
      ]
     },
     "execution_count": 16,
     "metadata": {},
     "output_type": "execute_result"
    }
   ],
   "source": [
    "# Clustter category is for unclassified images\n",
    "Image(\"/tmp/caltech_256_train_60/257.clutter/257_0425.jpg\")"
   ]
  },
  {
   "cell_type": "code",
   "execution_count": 15,
   "metadata": {},
   "outputs": [
    {
     "data": {
      "image/jpeg": "[encoded data removed]",
      "text/plain": [
       "<IPython.core.display.Image object>"
      ]
     },
     "execution_count": 15,
     "metadata": {},
     "output_type": "execute_result"
    }
   ],
   "source": [
    "Image(\"/tmp/caltech_256_train_60/257.clutter/257_0575.jpg\")"
   ]
  },
  {
   "cell_type": "markdown",
   "metadata": {},
   "source": [
    "When you are bringing your own image files to train, please ensure that the .lst file follows the same format as described above. In order to train with the lst format interface, passing the lst file for both training and validation in the appropriate format is mandatory. Once we have the data available in the correct format for training, the next step is to upload the image and .lst file to S3 bucket."
   ]
  },
  {
   "cell_type": "code",
   "execution_count": 5,
   "metadata": {},
   "outputs": [],
   "source": [
    "# Four channels: train, validation, train_lst, and validation_lst\n",
    "s3train = 's3://{}/train/'.format(bucket)\n",
    "s3validation = 's3://{}/validation/'.format(bucket)\n",
    "s3train_lst = 's3://{}/train_lst/'.format(bucket)\n",
    "s3validation_lst = 's3://{}/validation_lst/'.format(bucket)\n",
    "\n",
    "# upload the image files to train and validation channels\n",
    "!aws s3 cp /tmp/caltech_256_train_60 $s3train --recursive --quiet\n",
    "!aws s3 cp /tmp/256_ObjectCategories $s3validation --recursive --quiet\n",
    "\n",
    "# upload the lst files to train_lst and validation_lst channels\n",
    "!aws s3 cp /tmp/caltech-256-60-train.lst $s3train_lst --quiet\n",
    "!aws s3 cp /tmp/caltech-256-60-val.lst $s3validation_lst --quiet"
   ]
  },
  {
   "cell_type": "markdown",
   "metadata": {},
   "source": [
    "Now we have all the data stored in S3 bucket. The image and lst files will be converted to RecordIO file internelly by the image classification algorithm. But if you want do the conversion, the following cell shows how to do it using the [im2rec](https://github.com/apache/incubator-mxnet/blob/master/tools/im2rec.py) tool. Note that this is just an example of creating RecordIO files. We are **_not_** using them for training in this notebook. More details on creating RecordIO files can be found in this [tutorial](https://mxnet.incubator.apache.org/how_to/recordio.html?highlight=im2rec)."
   ]
  },
  {
   "cell_type": "code",
   "execution_count": 6,
   "metadata": {},
   "outputs": [
    {
     "name": "stdout",
     "output_type": "stream",
     "text": [
      "Creating .rec file from /tmp/caltech-256-60-val.lst in /tmp\n",
      "time: 0.021434307098388672  count: 0\n",
      "time: 4.662133693695068  count: 1000\n",
      "time: 3.4099557399749756  count: 2000\n",
      "time: 4.078410625457764  count: 3000\n",
      "time: 5.087332010269165  count: 4000\n",
      "time: 4.27838397026062  count: 5000\n",
      "time: 4.205250024795532  count: 6000\n",
      "time: 3.6777541637420654  count: 7000\n",
      "time: 6.369385004043579  count: 8000\n",
      "time: 3.3011977672576904  count: 9000\n",
      "time: 3.519711971282959  count: 10000\n",
      "time: 3.417313814163208  count: 11000\n",
      "time: 3.4601385593414307  count: 12000\n",
      "time: 3.5263795852661133  count: 13000\n",
      "time: 2.090500593185425  count: 14000\n",
      "time: 0.5016591548919678  count: 15000\n",
      "Creating .rec file from /tmp/caltech-256-60-train.lst in /tmp\n",
      "time: 0.33762383460998535  count: 0\n",
      "time: 5.312024116516113  count: 1000\n",
      "time: 4.209725856781006  count: 2000\n",
      "time: 3.643160104751587  count: 3000\n",
      "time: 5.627357721328735  count: 4000\n",
      "time: 3.2420499324798584  count: 5000\n",
      "time: 3.389641284942627  count: 6000\n",
      "time: 3.209742307662964  count: 7000\n",
      "time: 3.696721315383911  count: 8000\n",
      "time: 4.42287015914917  count: 9000\n",
      "time: 3.3963592052459717  count: 10000\n",
      "time: 2.8468334674835205  count: 11000\n",
      "time: 3.2608861923217773  count: 12000\n",
      "time: 3.656238317489624  count: 13000\n",
      "time: 4.469073295593262  count: 14000\n",
      "time: 4.256170988082886  count: 15000\n",
      "time: 3.8975954055786133  count: 16000\n",
      "time: 3.731010913848877  count: 17000\n",
      "time: 3.2223541736602783  count: 18000\n",
      "time: 3.4242076873779297  count: 19000\n",
      "time: 3.546862840652466  count: 20000\n",
      "time: 3.360142469406128  count: 21000\n",
      "time: 3.384934425354004  count: 22000\n",
      "time: 3.7421491146087646  count: 23000\n",
      "time: 3.4452250003814697  count: 24000\n",
      "time: 3.280708074569702  count: 25000\n",
      "time: 1.6941368579864502  count: 26000\n"
     ]
    }
   ],
   "source": [
    "%%bash\n",
    "python /tmp/im2rec.py --resize 256 --quality 90 --num-thread 16 /tmp/caltech-256-60-val /tmp/256_ObjectCategories/\n",
    "python /tmp/im2rec.py --resize 256 --quality 90 --num-thread 16 /tmp/caltech-256-60-train /tmp/caltech_256_train_60/"
   ]
  },
  {
   "cell_type": "markdown",
   "metadata": {},
   "source": [
    "After you created the RecordIO files, you can upload them to the train and validation channels for training. To train with RecordIO format, you can follow \"[Image-classification-fulltraining.ipynb](https://github.com/awslabs/amazon-sagemaker-examples/blob/master/introduction_to_amazon_algorithms/imageclassification_caltech/Image-classification-fulltraining.ipynb)\" and \"[Image-classification-transfer-learning.ipynb](https://github.com/awslabs/amazon-sagemaker-examples/blob/master/introduction_to_amazon_algorithms/imageclassification_caltech/Image-classification-transfer-learning.ipynb)\". Again, we will **_not_** use the RecordIO file for the training. The following sections will only show you how to train a model with images and list files."
   ]
  },
  {
   "cell_type": "markdown",
   "metadata": {},
   "source": [
    "Before training the model, we need to setup the training parameters. The next section will explain the parameters in detail."
   ]
  },
  {
   "cell_type": "markdown",
   "metadata": {},
   "source": [
    "## Fine-tuning the Image Classification Model\n",
    "\n",
    "### Training parameters\n",
    "There are two kinds of parameters that need to be set for training. The first one are the parameters for the training job. These include:\n",
    "\n",
    "* **Input specification**: These are the training and validation channels that specify the path where training data is present. These are specified in the \"InputDataConfig\" section. The main parameters that need to be set is the \"ContentType\" which can be set to \"application/x-recordio\" or \"application/x-image\" based on the input data format and the S3Uri which specifies the bucket and the folder where the data is present. \n",
    "* **Output specification**: This is specified in the \"OutputDataConfig\" section. We just need to specify the path where the output can be stored after training\n",
    "* **Resource config**: This section specifies the type of instance on which to run the training and the number of hosts used for training. If \"InstanceCount\" is more than 1, then training can be run in a distributed manner. \n",
    "\n",
    "Apart from the above set of parameters, there are hyperparameters that are specific to the algorithm. These are:\n",
    "\n",
    "* **num_layers**: The number of layers (depth) for the network. We use 18 in this samples but other values such as 50, 152 can be used.\n",
    "* **image_shape**: The input image dimensions,'num_channels, height, width', for the network. It should be no larger than the actual image size. The number of channels should be same as the actual image.\n",
    "    * Excerpted from http://www.cs.toronto.edu/~fritz/absps/imagenet.pdf, the first form of data augmentation consists of generating image translations and horizontal reflections. We do this by extracting random 224 × 224 patches (and their horizontal reflections) from the 256×256 images and training our network on these extracted patches. This is the reason why the input images in Figure 2 are 224 × 224 × 3-dimensional. This increases the size of our training set by a factor of 2048, though the resulting training examples are, of course, highly interdependent. Without this scheme, our network suffers from substantial overfitting, which would have forced us to use much smaller networks.\n",
    "* **num_training_samples**: This is the total number of training samples. It is set to 15240 for caltech dataset with the current split.\n",
    "* **num_classes**: This is the number of output classes for the new dataset. Imagenet was trained with 1000 output classes but the number of output classes can be changed for fine-tuning. For caltech, we use 257 because it has 256 object categories + 1 clutter class.\n",
    "* **mini_batch_size**: The number of training samples used for each mini batch. In distributed training, the number of training samples used per batch will be N * mini_batch_size where N is the number of hosts on which training is run.\n",
    "* **epochs**: Number of training epochs.\n",
    "* **learning_rate**: Learning rate for training.\n",
    "* **top_k**: Report the top-k accuracy during training.\n",
    "* **resize**: Resize the image before using it for training. The images are resized so that the shortest side is of this parameter. If the parameter is not set, then the training data is used as such without resizing.\n",
    "* **checkpoint_frequency**: Period to store model parameters (in number of epochs).\n",
    "* **use_pretrained_model**: Set to 1 to use pretrained model for transfer learning."
   ]
  },
  {
   "cell_type": "code",
   "execution_count": 21,
   "metadata": {
    "isConfigCell": true
   },
   "outputs": [],
   "source": [
    "# The algorithm supports multiple network depth (number of layers). They are 18, 34, 50, 101, 152 and 200\n",
    "# For this training, we will use 18 layers\n",
    "num_layers = 18\n",
    "# we need to specify the input image shape for the training data: \"num_channels, height, width\"\n",
    "# See https://news.ycombinator.com/item?id=12509852 for further information on this 224 size \n",
    "# which is chosen to allow for the extraction of random patches for translation invariance\n",
    "image_shape = \"3,224,224\"\n",
    "# we also need to specify the number of training samples in the training set\n",
    "num_training_samples = 15240\n",
    "# specify the number of output classes\n",
    "num_classes = 257\n",
    "# batch size for training\n",
    "mini_batch_size = 128\n",
    "# number of epochs\n",
    "epochs = 6\n",
    "# learning rate\n",
    "learning_rate = 0.01\n",
    "# report top_5 accuracy\n",
    "top_k = 5\n",
    "# resize image before training\n",
    "resize = 256\n",
    "# period to store model parameters (in number of epochs), in this case, we will save parameters from epoch 2, 4, and 6\n",
    "checkpoint_frequency = 2\n",
    "# Since we are using transfer learning, we set use_pretrained_model to 1 so that weights can be \n",
    "# initialized with pre-trained weights\n",
    "use_pretrained_model = 1"
   ]
  },
  {
   "cell_type": "markdown",
   "metadata": {},
   "source": [
    "### Training\n",
    "Run the training using Amazon sagemaker CreateTrainingJob API"
   ]
  },
  {
   "cell_type": "code",
   "execution_count": 19,
   "metadata": {},
   "outputs": [
    {
     "name": "stdout",
     "output_type": "stream",
     "text": [
      "Training job name: sagemaker-imageclassification-notebook-2018-06-19-05-49-29\n",
      "\n",
      "Input Data Location: {'S3DataType': 'S3Prefix', 'S3Uri': 's3://pilho-sagemaker-ai-workshop/train/', 'S3DataDistributionType': 'FullyReplicated'}\n",
      "CPU times: user 36 ms, sys: 0 ns, total: 36 ms\n",
      "Wall time: 110 ms\n"
     ]
    }
   ],
   "source": [
    "%%time\n",
    "import time\n",
    "import boto3\n",
    "from time import gmtime, strftime\n",
    "\n",
    "\n",
    "s3 = boto3.client('s3')\n",
    "# create unique job name \n",
    "job_name_prefix = 'sagemaker-imageclassification-notebook'\n",
    "timestamp = time.strftime('-%Y-%m-%d-%H-%M-%S', time.gmtime())\n",
    "job_name = job_name_prefix + timestamp\n",
    "training_params = \\\n",
    "{\n",
    "    # specify the training docker image\n",
    "    \"AlgorithmSpecification\": {\n",
    "        \"TrainingImage\": training_image,\n",
    "        \"TrainingInputMode\": \"File\"\n",
    "    },\n",
    "    \"RoleArn\": role,\n",
    "    \"OutputDataConfig\": {\n",
    "        \"S3OutputPath\": 's3://{}/{}/output'.format(bucket, job_name_prefix)\n",
    "    },\n",
    "    \"ResourceConfig\": {\n",
    "        \"InstanceCount\": 1,\n",
    "        \"InstanceType\": \"ml.p2.xlarge\",\n",
    "        \"VolumeSizeInGB\": 50\n",
    "    },\n",
    "    \"TrainingJobName\": job_name,\n",
    "    \"HyperParameters\": {\n",
    "        \"image_shape\": image_shape,\n",
    "        \"num_layers\": str(num_layers),\n",
    "        \"num_training_samples\": str(num_training_samples),\n",
    "        \"num_classes\": str(num_classes),\n",
    "        \"mini_batch_size\": str(mini_batch_size),\n",
    "        \"epochs\": str(epochs),\n",
    "        \"learning_rate\": str(learning_rate),\n",
    "        \"top_k\": str(top_k),\n",
    "        \"resize\": str(resize),\n",
    "        \"checkpoint_frequency\": str(checkpoint_frequency),\n",
    "        \"use_pretrained_model\": str(use_pretrained_model)    \n",
    "    },\n",
    "    \"StoppingCondition\": {\n",
    "        \"MaxRuntimeInSeconds\": 360000\n",
    "    },\n",
    "#Training data should be inside a subdirectory called \"train\"\n",
    "#Validation data should be inside a subdirectory called \"validation\"\n",
    "#The algorithm currently only supports fullyreplicated model (where data is copied onto each machine)\n",
    "    \"InputDataConfig\": [\n",
    "        {\n",
    "            \"ChannelName\": \"train\",\n",
    "            \"DataSource\": {\n",
    "                \"S3DataSource\": {\n",
    "                    \"S3DataType\": \"S3Prefix\",\n",
    "                    \"S3Uri\": 's3://{}/train/'.format(bucket),\n",
    "                    \"S3DataDistributionType\": \"FullyReplicated\"\n",
    "                }\n",
    "            },\n",
    "            \"ContentType\": \"application/x-image\",\n",
    "            \"CompressionType\": \"None\"\n",
    "        },\n",
    "        {\n",
    "            \"ChannelName\": \"validation\",\n",
    "            \"DataSource\": {\n",
    "                \"S3DataSource\": {\n",
    "                    \"S3DataType\": \"S3Prefix\",\n",
    "                    \"S3Uri\": 's3://{}/validation/'.format(bucket),\n",
    "                    \"S3DataDistributionType\": \"FullyReplicated\"\n",
    "                }\n",
    "            },\n",
    "            \"ContentType\": \"application/x-image\",\n",
    "            \"CompressionType\": \"None\"\n",
    "        },\n",
    "        {\n",
    "            \"ChannelName\": \"train_lst\",\n",
    "            \"DataSource\": {\n",
    "                \"S3DataSource\": {\n",
    "                    \"S3DataType\": \"S3Prefix\",\n",
    "                    \"S3Uri\": 's3://{}/train_lst/'.format(bucket),\n",
    "                    \"S3DataDistributionType\": \"FullyReplicated\"\n",
    "                }\n",
    "            },\n",
    "            \"ContentType\": \"application/x-image\",\n",
    "            \"CompressionType\": \"None\"\n",
    "        },\n",
    "        {\n",
    "            \"ChannelName\": \"validation_lst\",\n",
    "            \"DataSource\": {\n",
    "                \"S3DataSource\": {\n",
    "                    \"S3DataType\": \"S3Prefix\",\n",
    "                    \"S3Uri\": 's3://{}/validation_lst/'.format(bucket),\n",
    "                    \"S3DataDistributionType\": \"FullyReplicated\"\n",
    "                }\n",
    "            },\n",
    "            \"ContentType\": \"application/x-image\",\n",
    "            \"CompressionType\": \"None\"\n",
    "        }\n",
    "    ]\n",
    "}\n",
    "print('Training job name: {}'.format(job_name))\n",
    "print('\\nInput Data Location: {}'.format(training_params['InputDataConfig'][0]['DataSource']['S3DataSource']))"
   ]
  },
  {
   "cell_type": "code",
   "execution_count": 20,
   "metadata": {},
   "outputs": [
    {
     "name": "stdout",
     "output_type": "stream",
     "text": [
      "Training job current status: InProgress\n",
      "Training job ended with status: Completed\n"
     ]
    }
   ],
   "source": [
    "%%time\n",
    "# create the Amazon SageMaker training job\n",
    "sagemaker = boto3.client(service_name='sagemaker')\n",
    "sagemaker.create_training_job(**training_params)\n",
    "\n",
    "# confirm that the training job has started\n",
    "status = sagemaker.describe_training_job(TrainingJobName=job_name)['TrainingJobStatus']\n",
    "print('Training job current status: {}'.format(status))\n",
    "\n",
    "try:\n",
    "    # wait for the job to finish and report the ending status\n",
    "    sagemaker.get_waiter('training_job_completed_or_stopped').wait(TrainingJobName=job_name)\n",
    "    training_info = sagemaker.describe_training_job(TrainingJobName=job_name)\n",
    "    status = training_info['TrainingJobStatus']\n",
    "    print(\"Training job ended with status: \" + status)\n",
    "except:\n",
    "    print('Training failed to start')\n",
    "     # if exception is raised, that means it has failed\n",
    "    message = sagemaker.describe_training_job(TrainingJobName=job_name)['FailureReason']\n",
    "    print('Training failed with the following error: {}'.format(message))"
   ]
  },
  {
   "cell_type": "code",
   "execution_count": 22,
   "metadata": {},
   "outputs": [
    {
     "name": "stdout",
     "output_type": "stream",
     "text": [
      "Training job ended with status: Completed\n",
      "{'TrainingJobName': 'sagemaker-imageclassification-notebook-2018-06-19-05-49-29', 'TrainingJobArn': 'arn:aws:sagemaker:us-east-1:082256166551:training-job/sagemaker-imageclassification-notebook-2018-06-19-05-49-29', 'ModelArtifacts': {'S3ModelArtifacts': 's3://pilho-sagemaker-ai-workshop/sagemaker-imageclassification-notebook/output/sagemaker-imageclassification-notebook-2018-06-19-05-49-29/output/model.tar.gz'}, 'TrainingJobStatus': 'Completed', 'SecondaryStatus': 'Completed', 'HyperParameters': {'checkpoint_frequency': '2', 'epochs': '6', 'image_shape': '3,224,224', 'learning_rate': '0.01', 'mini_batch_size': '128', 'num_classes': '257', 'num_layers': '18', 'num_training_samples': '15240', 'resize': '256', 'top_k': '5', 'use_pretrained_model': '1'}, 'AlgorithmSpecification': {'TrainingImage': '811284229777.dkr.ecr.us-east-1.amazonaws.com/image-classification:latest', 'TrainingInputMode': 'File'}, 'RoleArn': 'arn:aws:iam::082256166551:role/service-role/AmazonSageMaker-ExecutionRole-20180110T104784', 'InputDataConfig': [{'ChannelName': 'train', 'DataSource': {'S3DataSource': {'S3DataType': 'S3Prefix', 'S3Uri': 's3://pilho-sagemaker-ai-workshop/train/', 'S3DataDistributionType': 'FullyReplicated'}}, 'ContentType': 'application/x-image', 'CompressionType': 'None', 'RecordWrapperType': 'None'}, {'ChannelName': 'validation', 'DataSource': {'S3DataSource': {'S3DataType': 'S3Prefix', 'S3Uri': 's3://pilho-sagemaker-ai-workshop/validation/', 'S3DataDistributionType': 'FullyReplicated'}}, 'ContentType': 'application/x-image', 'CompressionType': 'None', 'RecordWrapperType': 'None'}, {'ChannelName': 'train_lst', 'DataSource': {'S3DataSource': {'S3DataType': 'S3Prefix', 'S3Uri': 's3://pilho-sagemaker-ai-workshop/train_lst/', 'S3DataDistributionType': 'FullyReplicated'}}, 'ContentType': 'application/x-image', 'CompressionType': 'None', 'RecordWrapperType': 'None'}, {'ChannelName': 'validation_lst', 'DataSource': {'S3DataSource': {'S3DataType': 'S3Prefix', 'S3Uri': 's3://pilho-sagemaker-ai-workshop/validation_lst/', 'S3DataDistributionType': 'FullyReplicated'}}, 'ContentType': 'application/x-image', 'CompressionType': 'None', 'RecordWrapperType': 'None'}], 'OutputDataConfig': {'KmsKeyId': '', 'S3OutputPath': 's3://pilho-sagemaker-ai-workshop/sagemaker-imageclassification-notebook/output'}, 'ResourceConfig': {'InstanceType': 'ml.p2.xlarge', 'InstanceCount': 1, 'VolumeSizeInGB': 50}, 'StoppingCondition': {'MaxRuntimeInSeconds': 360000}, 'CreationTime': datetime.datetime(2018, 6, 19, 5, 49, 40, 699000, tzinfo=tzlocal()), 'TrainingStartTime': datetime.datetime(2018, 6, 19, 5, 51, 8, 245000, tzinfo=tzlocal()), 'TrainingEndTime': datetime.datetime(2018, 6, 19, 6, 15, 10, 997000, tzinfo=tzlocal()), 'LastModifiedTime': datetime.datetime(2018, 6, 19, 6, 15, 11, 2000, tzinfo=tzlocal()), 'ResponseMetadata': {'RequestId': '798b7318-51c3-45ca-a22f-729cd2efaec6', 'HTTPStatusCode': 200, 'HTTPHeaders': {'content-type': 'application/x-amz-json-1.1', 'date': 'Tue, 19 Jun 2018 06:27:38 GMT', 'x-amzn-requestid': '798b7318-51c3-45ca-a22f-729cd2efaec6', 'content-length': '2689', 'connection': 'keep-alive'}, 'RetryAttempts': 0}}\n"
     ]
    }
   ],
   "source": [
    "training_info = sagemaker.describe_training_job(TrainingJobName=job_name)\n",
    "status = training_info['TrainingJobStatus']\n",
    "print(\"Training job ended with status: \" + status)\n",
    "print (training_info)"
   ]
  },
  {
   "cell_type": "markdown",
   "metadata": {},
   "source": [
    "If you see the message,\n",
    "\n",
    "> `Training job ended with status: Completed`\n",
    "\n",
    "then that means training sucessfully completed and the output model was stored in the output path specified by `training_params['OutputDataConfig']`.\n",
    "\n",
    "You can also view information about and the status of a training job using the AWS SageMaker console. Just click on the \"Jobs\" tab."
   ]
  },
  {
   "cell_type": "markdown",
   "metadata": {},
   "source": [
    "## Set Up Hosting For The Model\n",
    "\n",
    "A trained model does nothing on its own. We now want to use the model to perform inference. For this example, that means predicting the topic mixture representing a given document.\n",
    "\n",
    "This section involves several steps,\n",
    "\n",
    "1. [Create model](#CreateModel) - Create model for the training output\n",
    "1. [Create endpoint configuration](#CreateEndpointConfiguration) - Create a configuration defining an endpoint.\n",
    "1. [Create endpoint](#CreateEndpoint) - Use the configuration to create an inference endpoint.\n",
    "1. [Perform inference](#Perform Inference) - Perform inference on some input data using the endpoint."
   ]
  },
  {
   "cell_type": "markdown",
   "metadata": {},
   "source": [
    "### Create model\n",
    "\n",
    "We now create a SageMaker Model from the training output. Using the model we can create an Endpoint Configuration."
   ]
  },
  {
   "cell_type": "code",
   "execution_count": 23,
   "metadata": {},
   "outputs": [
    {
     "name": "stdout",
     "output_type": "stream",
     "text": [
      "image-classification-model-2018-06-19-06-29-30\n",
      "s3://pilho-sagemaker-ai-workshop/sagemaker-imageclassification-notebook/output/sagemaker-imageclassification-notebook-2018-06-19-05-49-29/output/model.tar.gz\n",
      "arn:aws:sagemaker:us-east-1:082256166551:model/image-classification-model-2018-06-19-06-29-30\n",
      "CPU times: user 40 ms, sys: 0 ns, total: 40 ms\n",
      "Wall time: 296 ms\n"
     ]
    }
   ],
   "source": [
    "%%time\n",
    "import boto3\n",
    "from time import gmtime, strftime\n",
    "\n",
    "sage = boto3.Session().client(service_name='sagemaker') \n",
    "\n",
    "timestamp = time.strftime('-%Y-%m-%d-%H-%M-%S', time.gmtime())\n",
    "model_name=\"image-classification-model\" + timestamp\n",
    "print(model_name)\n",
    "info = sage.describe_training_job(TrainingJobName=job_name)\n",
    "model_data = info['ModelArtifacts']['S3ModelArtifacts']\n",
    "print(model_data)\n",
    "hosting_image = containers[boto3.Session().region_name]\n",
    "primary_container = {\n",
    "    'Image': hosting_image,\n",
    "    'ModelDataUrl': model_data,\n",
    "}\n",
    "\n",
    "create_model_response = sage.create_model(\n",
    "    ModelName = model_name,\n",
    "    ExecutionRoleArn = role,\n",
    "    PrimaryContainer = primary_container)\n",
    "\n",
    "print(create_model_response['ModelArn'])"
   ]
  },
  {
   "cell_type": "markdown",
   "metadata": {},
   "source": [
    "### Create endpoint configuration\n",
    "At launch, we will support configuring REST endpoints in hosting with multiple models, e.g. for A/B testing purposes. In order to support this, customers create an endpoint configuration, that describes the distribution of traffic across the models, whether split, shadowed, or sampled in some way.\n",
    "\n",
    "In addition, the endpoint configuration describes the instance type required for model deployment, and at launch will describe the autoscaling configuration."
   ]
  },
  {
   "cell_type": "code",
   "execution_count": 24,
   "metadata": {},
   "outputs": [
    {
     "name": "stdout",
     "output_type": "stream",
     "text": [
      "Endpoint configuration name: sagemaker-imageclassification-notebook-epc--2018-06-19-06-30-18\n",
      "Endpoint configuration arn:  arn:aws:sagemaker:us-east-1:082256166551:endpoint-config/sagemaker-imageclassification-notebook-epc--2018-06-19-06-30-18\n"
     ]
    }
   ],
   "source": [
    "from time import gmtime, strftime\n",
    "\n",
    "timestamp = time.strftime('-%Y-%m-%d-%H-%M-%S', time.gmtime())\n",
    "endpoint_config_name = job_name_prefix + '-epc-' + timestamp\n",
    "endpoint_config_response = sage.create_endpoint_config(\n",
    "    EndpointConfigName = endpoint_config_name,\n",
    "    ProductionVariants=[{\n",
    "        'InstanceType':'ml.p2.xlarge',\n",
    "        'InitialInstanceCount':1,\n",
    "        'ModelName':model_name,\n",
    "        'VariantName':'AllTraffic'}])\n",
    "\n",
    "print('Endpoint configuration name: {}'.format(endpoint_config_name))\n",
    "print('Endpoint configuration arn:  {}'.format(endpoint_config_response['EndpointConfigArn']))"
   ]
  },
  {
   "cell_type": "markdown",
   "metadata": {},
   "source": [
    "### Create endpoint\n",
    "Lastly, the customer creates the endpoint that serves up the model, through specifying the name and configuration defined above. The end result is an endpoint that can be validated and incorporated into production applications. This takes 9-11 minutes to complete."
   ]
  },
  {
   "cell_type": "code",
   "execution_count": 25,
   "metadata": {},
   "outputs": [
    {
     "name": "stdout",
     "output_type": "stream",
     "text": [
      "Endpoint name: sagemaker-imageclassification-notebook-ep--2018-06-19-06-30-28\n",
      "EndpointArn = arn:aws:sagemaker:us-east-1:082256166551:endpoint/sagemaker-imageclassification-notebook-ep--2018-06-19-06-30-28\n",
      "CPU times: user 12 ms, sys: 0 ns, total: 12 ms\n",
      "Wall time: 285 ms\n"
     ]
    }
   ],
   "source": [
    "%%time\n",
    "import time\n",
    "\n",
    "timestamp = time.strftime('-%Y-%m-%d-%H-%M-%S', time.gmtime())\n",
    "endpoint_name = job_name_prefix + '-ep-' + timestamp\n",
    "print('Endpoint name: {}'.format(endpoint_name))\n",
    "\n",
    "endpoint_params = {\n",
    "    'EndpointName': endpoint_name,\n",
    "    'EndpointConfigName': endpoint_config_name,\n",
    "}\n",
    "endpoint_response = sagemaker.create_endpoint(**endpoint_params)\n",
    "print('EndpointArn = {}'.format(endpoint_response['EndpointArn']))"
   ]
  },
  {
   "cell_type": "markdown",
   "metadata": {},
   "source": [
    "Finally, now the endpoint can be created. It may take sometime to create the endpoint..."
   ]
  },
  {
   "cell_type": "code",
   "execution_count": 26,
   "metadata": {},
   "outputs": [
    {
     "name": "stdout",
     "output_type": "stream",
     "text": [
      "EndpointStatus = Creating\n",
      "Arn: arn:aws:sagemaker:us-east-1:082256166551:endpoint/sagemaker-imageclassification-notebook-ep--2018-06-19-06-30-28\n",
      "Create endpoint ended with status: InService\n"
     ]
    }
   ],
   "source": [
    "# get the status of the endpoint\n",
    "response = sagemaker.describe_endpoint(EndpointName=endpoint_name)\n",
    "status = response['EndpointStatus']\n",
    "print('EndpointStatus = {}'.format(status))\n",
    "    \n",
    "try:\n",
    "    sagemaker.get_waiter('endpoint_in_service').wait(EndpointName=endpoint_name)\n",
    "finally:\n",
    "    resp = sagemaker.describe_endpoint(EndpointName=endpoint_name)\n",
    "    status = resp['EndpointStatus']\n",
    "    print(\"Arn: \" + resp['EndpointArn'])\n",
    "    print(\"Create endpoint ended with status: \" + status)\n",
    "\n",
    "    if status != 'InService':\n",
    "        message = sagemaker.describe_endpoint(EndpointName=endpoint_name)['FailureReason']\n",
    "        print('Training failed with the following error: {}'.format(message))\n",
    "        raise Exception('Endpoint creation did not succeed')"
   ]
  },
  {
   "cell_type": "markdown",
   "metadata": {},
   "source": [
    "If you see the message,\n",
    "\n",
    "> `Endpoint creation ended with EndpointStatus = InService`\n",
    "\n",
    "then congratulations! You now have a functioning inference endpoint. You can confirm the endpoint configuration and status by navigating to the \"Endpoints\" tab in the AWS SageMaker console.\n",
    "\n",
    "We will finally create a runtime object from which we can invoke the endpoint."
   ]
  },
  {
   "cell_type": "markdown",
   "metadata": {},
   "source": [
    "### Perform inference\n",
    "Finally, the customer can now validate the model for use. They can obtain the endpoint from the client library using the result from previous operations, and generate classifications from the trained model using that endpoint.\n"
   ]
  },
  {
   "cell_type": "code",
   "execution_count": 27,
   "metadata": {},
   "outputs": [],
   "source": [
    "import boto3\n",
    "runtime = boto3.Session().client(service_name='runtime.sagemaker') "
   ]
  },
  {
   "cell_type": "markdown",
   "metadata": {},
   "source": [
    "#### Download test image"
   ]
  },
  {
   "cell_type": "code",
   "execution_count": 28,
   "metadata": {},
   "outputs": [
    {
     "name": "stdout",
     "output_type": "stream",
     "text": [
      "--2018-06-19 06:38:05--  http://www.vision.caltech.edu/Image_Datasets/Caltech256/images/008.bathtub/008_0007.jpg\n",
      "Resolving www.vision.caltech.edu (www.vision.caltech.edu)... 34.208.54.77\n",
      "Connecting to www.vision.caltech.edu (www.vision.caltech.edu)|34.208.54.77|:80... connected.\n",
      "HTTP request sent, awaiting response... 200 OK\n",
      "Length: 23750 (23K) [image/jpeg]\n",
      "Saving to: ‘/tmp/test.jpg’\n",
      "\n",
      "/tmp/test.jpg       100%[===================>]  23.19K  --.-KB/s    in 0.08s   \n",
      "\n",
      "2018-06-19 06:38:06 (285 KB/s) - ‘/tmp/test.jpg’ saved [23750/23750]\n",
      "\n"
     ]
    },
    {
     "data": {
      "image/jpeg": "[encoded data removed]",
      "text/plain": [
       "<IPython.core.display.Image object>"
      ]
     },
     "execution_count": 28,
     "metadata": {},
     "output_type": "execute_result"
    }
   ],
   "source": [
    "!wget -O /tmp/test.jpg http://www.vision.caltech.edu/Image_Datasets/Caltech256/images/008.bathtub/008_0007.jpg\n",
    "file_name = '/tmp/test.jpg'\n",
    "# test image\n",
    "from IPython.display import Image\n",
    "Image(file_name)  "
   ]
  },
  {
   "cell_type": "code",
   "execution_count": 29,
   "metadata": {},
   "outputs": [
    {
     "name": "stdout",
     "output_type": "stream",
     "text": [
      "Result: label - bathtub, probability - 0.9989598989486694\n"
     ]
    }
   ],
   "source": [
    "import json\n",
    "import numpy as np\n",
    "with open(file_name, 'rb') as f:\n",
    "    payload = f.read()\n",
    "    payload = bytearray(payload)\n",
    "response = runtime.invoke_endpoint(EndpointName=endpoint_name, \n",
    "                                   ContentType='application/x-image', \n",
    "                                   Body=payload)\n",
    "result = response['Body'].read()\n",
    "# result will be in json format and convert it to ndarray\n",
    "result = json.loads(result)\n",
    "# the result will output the probabilities for all classes\n",
    "# find the class with maximum probability and print the class index\n",
    "index = np.argmax(result)\n",
    "object_categories = ['ak47', 'american-flag', 'backpack', 'baseball-bat', 'baseball-glove', 'basketball-hoop', 'bat', 'bathtub', 'bear', 'beer-mug', 'billiards', 'binoculars', 'birdbath', 'blimp', 'bonsai-101', 'boom-box', 'bowling-ball', 'bowling-pin', 'boxing-glove', 'brain-101', 'breadmaker', 'buddha-101', 'bulldozer', 'butterfly', 'cactus', 'cake', 'calculator', 'camel', 'cannon', 'canoe', 'car-tire', 'cartman', 'cd', 'centipede', 'cereal-box', 'chandelier-101', 'chess-board', 'chimp', 'chopsticks', 'cockroach', 'coffee-mug', 'coffin', 'coin', 'comet', 'computer-keyboard', 'computer-monitor', 'computer-mouse', 'conch', 'cormorant', 'covered-wagon', 'cowboy-hat', 'crab-101', 'desk-globe', 'diamond-ring', 'dice', 'dog', 'dolphin-101', 'doorknob', 'drinking-straw', 'duck', 'dumb-bell', 'eiffel-tower', 'electric-guitar-101', 'elephant-101', 'elk', 'ewer-101', 'eyeglasses', 'fern', 'fighter-jet', 'fire-extinguisher', 'fire-hydrant', 'fire-truck', 'fireworks', 'flashlight', 'floppy-disk', 'football-helmet', 'french-horn', 'fried-egg', 'frisbee', 'frog', 'frying-pan', 'galaxy', 'gas-pump', 'giraffe', 'goat', 'golden-gate-bridge', 'goldfish', 'golf-ball', 'goose', 'gorilla', 'grand-piano-101', 'grapes', 'grasshopper', 'guitar-pick', 'hamburger', 'hammock', 'harmonica', 'harp', 'harpsichord', 'hawksbill-101', 'head-phones', 'helicopter-101', 'hibiscus', 'homer-simpson', 'horse', 'horseshoe-crab', 'hot-air-balloon', 'hot-dog', 'hot-tub', 'hourglass', 'house-fly', 'human-skeleton', 'hummingbird', 'ibis-101', 'ice-cream-cone', 'iguana', 'ipod', 'iris', 'jesus-christ', 'joy-stick', 'kangaroo-101', 'kayak', 'ketch-101', 'killer-whale', 'knife', 'ladder', 'laptop-101', 'lathe', 'leopards-101', 'license-plate', 'lightbulb', 'light-house', 'lightning', 'llama-101', 'mailbox', 'mandolin', 'mars', 'mattress', 'megaphone', 'menorah-101', 'microscope', 'microwave', 'minaret', 'minotaur', 'motorbikes-101', 'mountain-bike', 'mushroom', 'mussels', 'necktie', 'octopus', 'ostrich', 'owl', 'palm-pilot', 'palm-tree', 'paperclip', 'paper-shredder', 'pci-card', 'penguin', 'people', 'pez-dispenser', 'photocopier', 'picnic-table', 'playing-card', 'porcupine', 'pram', 'praying-mantis', 'pyramid', 'raccoon', 'radio-telescope', 'rainbow', 'refrigerator', 'revolver-101', 'rifle', 'rotary-phone', 'roulette-wheel', 'saddle', 'saturn', 'school-bus', 'scorpion-101', 'screwdriver', 'segway', 'self-propelled-lawn-mower', 'sextant', 'sheet-music', 'skateboard', 'skunk', 'skyscraper', 'smokestack', 'snail', 'snake', 'sneaker', 'snowmobile', 'soccer-ball', 'socks', 'soda-can', 'spaghetti', 'speed-boat', 'spider', 'spoon', 'stained-glass', 'starfish-101', 'steering-wheel', 'stirrups', 'sunflower-101', 'superman', 'sushi', 'swan', 'swiss-army-knife', 'sword', 'syringe', 'tambourine', 'teapot', 'teddy-bear', 'teepee', 'telephone-box', 'tennis-ball', 'tennis-court', 'tennis-racket', 'theodolite', 'toaster', 'tomato', 'tombstone', 'top-hat', 'touring-bike', 'tower-pisa', 'traffic-light', 'treadmill', 'triceratops', 'tricycle', 'trilobite-101', 'tripod', 't-shirt', 'tuning-fork', 'tweezer', 'umbrella-101', 'unicorn', 'vcr', 'video-projector', 'washing-machine', 'watch-101', 'waterfall', 'watermelon', 'welding-mask', 'wheelbarrow', 'windmill', 'wine-bottle', 'xylophone', 'yarmulke', 'yo-yo', 'zebra', 'airplanes-101', 'car-side-101', 'faces-easy-101', 'greyhound', 'tennis-shoes', 'toad', 'clutter']\n",
    "print(\"Result: label - \" + object_categories[index] + \", probability - \" + str(result[index]))"
   ]
  },
  {
   "cell_type": "code",
   "execution_count": 32,
   "metadata": {},
   "outputs": [
    {
     "name": "stdout",
     "output_type": "stream",
     "text": [
      "[1.8167459359119675e-07, 4.0564689385291786e-08, 4.907876327564509e-09, 8.400127171626082e-08, 2.3297330642435554e-07, 3.293115113933709e-08, 3.0241462667390806e-08, 0.9989598989486694, 4.122069299228315e-07, 1.6723851103961351e-07, 4.335148844347714e-07, 1.470605237585687e-08, 4.919835419059382e-07, 3.78899528641341e-07, 1.7273573860165925e-07, 7.309789396003907e-08, 1.0746944099082612e-06, 6.692810984532116e-06, 1.4750304444532958e-07, 7.721928341197781e-08, 8.257419722212944e-06, 6.605966884620784e-10, 2.259645725644077e-06, 2.285695188675163e-08, 1.4444604801155947e-07, 1.1509112027852098e-06, 2.6346165782342723e-07, 1.319285161116568e-07, 9.397975730962571e-08, 1.659633284134543e-07, 2.3098972690149822e-07, 6.4411875833059185e-09, 1.4453493690780306e-07, 1.4169221174142876e-07, 4.1403747985668815e-08, 2.381261943185109e-08, 2.3651104129385203e-05, 2.95755402390796e-08, 1.5443973211404227e-08, 4.0111584098667663e-07, 4.780331892106915e-06, 8.013061597011983e-05, 3.2564028629167296e-07, 4.400550146499427e-09, 7.528001333412249e-08, 3.87159047932073e-07, 5.535289915314934e-08, 2.564006820193754e-07, 9.201794881619207e-09, 1.1465123606058114e-07, 8.131408435474441e-08, 1.0710432718497032e-07, 5.915313394666555e-08, 9.803521834328421e-07, 1.0802694561107273e-07, 1.1102706309884525e-07, 1.0261164788971655e-06, 4.062237621837994e-06, 6.698139145555615e-07, 4.0242948529112255e-08, 8.566490805606009e-08, 7.47087836039384e-10, 1.1493992957412047e-07, 7.607843031109951e-07, 3.555915029096468e-08, 1.5283150389677758e-07, 4.959131842952047e-07, 4.8922238704562915e-08, 4.6537284248415745e-08, 5.751069807047315e-07, 1.6288916526718822e-07, 6.685780107318351e-08, 1.0047327947404483e-07, 9.612069362674447e-09, 1.9623558955572662e-07, 7.958057324231049e-08, 3.2287740481251603e-08, 1.549881005757925e-07, 2.971220069980518e-08, 6.107941885602486e-08, 7.548198368567682e-07, 1.1295345991868544e-08, 1.2157454420957947e-07, 2.2239460406581202e-07, 7.40490335715549e-08, 1.0280023587938558e-07, 6.78481271165765e-08, 6.414414599476004e-08, 6.416800601982686e-08, 1.0110093739967851e-07, 5.084539793642762e-07, 2.2255234100043708e-08, 1.3176996560559928e-07, 1.8550389313531923e-07, 9.631931874309885e-08, 7.950956870672599e-08, 1.5516667062343004e-08, 5.0143285079684574e-08, 3.996968871433637e-07, 1.9569727172097373e-08, 3.76000954815936e-08, 6.856150758238755e-09, 1.2886748379514756e-07, 4.2421905988021535e-09, 1.3554783606650744e-07, 6.931301186341443e-07, 2.5551498694653674e-08, 3.4552488159533823e-06, 0.0005857046926394105, 3.079271060357769e-09, 2.730562442820883e-08, 1.620509948452309e-08, 3.9109394833758415e-08, 1.5468854641653706e-08, 9.99514249144795e-09, 1.2292407092218127e-08, 2.0308747480157763e-05, 1.1083346151963269e-07, 7.682332991976182e-09, 1.5193556635040295e-07, 1.2926930637036094e-08, 2.8379724881233415e-07, 6.559066889622045e-08, 2.8561572662511026e-08, 3.6641832679151776e-08, 8.143903329482782e-08, 1.330155043888226e-07, 5.954667813057313e-06, 1.1865208193739818e-07, 5.371317683966481e-07, 2.747419500792603e-07, 8.48179659840298e-09, 2.1417758233610584e-08, 1.4265786774103617e-07, 1.0598006156214979e-05, 2.4484527738621864e-09, 1.1903176044825159e-07, 1.0059299029308022e-06, 5.194345362724562e-07, 9.085019847532294e-09, 1.7425247733626748e-07, 4.215977241983637e-06, 1.177652086958858e-09, 6.95321205057553e-08, 2.8350712000246858e-08, 1.4430113104424436e-08, 2.9662214728887193e-07, 2.000334831109285e-07, 4.5759154798652446e-10, 2.1369569225271334e-08, 3.0026217956447e-08, 2.1934157601322113e-08, 1.1842186786736875e-08, 5.779947187534162e-09, 9.648587138144649e-07, 0.00012623881048057228, 4.0543781665292045e-09, 1.2052046827193408e-07, 1.1368818064738662e-07, 4.501154649005912e-08, 3.6180801998852985e-06, 4.162155562426051e-07, 1.1050945403212609e-07, 2.736956616899988e-07, 1.4130100112197397e-07, 1.1006910938249348e-08, 1.9543755058748502e-07, 4.027287836549931e-09, 1.5152828325426526e-08, 1.5065964475979854e-07, 8.236924259108491e-06, 2.404548808954132e-07, 3.057316462218296e-07, 2.6451601797816693e-07, 1.9056653144389202e-08, 8.793071515356132e-08, 1.1897478202627099e-07, 3.826824190866773e-09, 2.311942495225594e-07, 6.528824059159888e-08, 8.249960714579174e-09, 4.765088235103576e-08, 3.5214677041039977e-07, 8.976373067071108e-08, 6.960172413528198e-06, 1.2226787760027946e-07, 2.1034169961353655e-08, 2.5728137842406795e-08, 6.393287321770913e-07, 1.1395238885825165e-07, 1.0159748597970975e-08, 2.7195278917702126e-08, 3.867595310680372e-08, 2.5695623406818413e-08, 2.840053412000998e-06, 7.450802854691574e-07, 1.395674075865827e-06, 4.906229514745064e-05, 4.555156010610517e-06, 3.122506697650351e-08, 4.602896286343139e-09, 1.4153385130555307e-08, 2.774557117390941e-08, 6.769578786425257e-10, 1.3339590765326648e-08, 2.0621195417902527e-08, 1.2513257985347082e-08, 2.875930022128159e-06, 4.881304903392447e-06, 3.861306385744001e-09, 3.302640152469394e-07, 1.1221584372833604e-06, 2.8295611187445502e-08, 1.3870954163053284e-08, 1.3244437013781862e-07, 3.847885636787396e-07, 4.639059341116081e-07, 1.783635816821061e-08, 3.192350916947362e-08, 3.038934664800763e-06, 1.4630527402914595e-06, 1.635741853078798e-08, 9.335727213510836e-07, 9.458122285366244e-09, 4.295032240975161e-08, 6.90069441589003e-08, 1.5944242193199898e-07, 2.5539465653423576e-08, 4.1154009977617534e-08, 5.3730566662579804e-08, 1.7959045806037466e-08, 1.439633336985935e-07, 9.476196716207141e-09, 1.20211353760169e-07, 8.339415558111796e-08, 3.549727978224837e-08, 7.447041383557007e-08, 7.391706731141312e-07, 2.683862840058282e-05, 1.9336080470111483e-07, 1.4121376956666154e-08, 2.976976247737184e-07, 4.1072283352150407e-07, 1.0003477655118331e-06, 1.6163380356370993e-10, 8.64654907672957e-08, 3.880104770814796e-08, 4.5775351509291795e-08, 4.220836657964355e-08, 1.4255388869344188e-08, 4.224872185432105e-08, 4.422529897851746e-08, 9.219573549046345e-09, 6.662433804649481e-08, 5.101262079421076e-09, 2.788631263683783e-07, 6.044274414307438e-07] 7 0.9989598989486694\n"
     ]
    }
   ],
   "source": [
    "print(result, index, result[index])"
   ]
  },
  {
   "cell_type": "markdown",
   "metadata": {},
   "source": [
    "#### Clean up\n",
    "\n",
    "When we're done with the endpoint, we can just delete it and the backing instances will be released. Uncomment and run the following cell to delete the endpoint and model"
   ]
  },
  {
   "cell_type": "code",
   "execution_count": 33,
   "metadata": {},
   "outputs": [
    {
     "data": {
      "text/plain": [
       "{'ResponseMetadata': {'RequestId': 'e433243d-b2e2-45cd-b320-9356f1d6b7dc',\n",
       "  'HTTPStatusCode': 200,\n",
       "  'HTTPHeaders': {'content-type': 'application/x-amz-json-1.1',\n",
       "   'date': 'Tue, 19 Jun 2018 06:40:42 GMT',\n",
       "   'x-amzn-requestid': 'e433243d-b2e2-45cd-b320-9356f1d6b7dc',\n",
       "   'content-length': '0',\n",
       "   'connection': 'keep-alive'},\n",
       "  'RetryAttempts': 0}}"
      ]
     },
     "execution_count": 33,
     "metadata": {},
     "output_type": "execute_result"
    }
   ],
   "source": [
    "sage.delete_endpoint(EndpointName=endpoint_name)"
   ]
  },
  {
   "cell_type": "code",
   "execution_count": null,
   "metadata": {},
   "outputs": [],
   "source": []
  }
 ],
 "metadata": {
  "kernelspec": {
   "display_name": "conda_mxnet_p36",
   "language": "python",
   "name": "conda_mxnet_p36"
  },
  "language_info": {
   "codemirror_mode": {
    "name": "ipython",
    "version": 3
   },
   "file_extension": ".py",
   "mimetype": "text/x-python",
   "name": "python",
   "nbconvert_exporter": "python",
   "pygments_lexer": "ipython3",
   "version": "3.6.4"
  },
  "notice": "Copyright 2017 Amazon.com, Inc. or its affiliates. All Rights Reserved.  Licensed under the Apache License, Version 2.0 (the \"License\"). You may not use this file except in compliance with the License. A copy of the License is located at http://aws.amazon.com/apache2.0/ or in the \"license\" file accompanying this file. This file is distributed on an \"AS IS\" BASIS, WITHOUT WARRANTIES OR CONDITIONS OF ANY KIND, either express or implied. See the License for the specific language governing permissions and limitations under the License.",
  "widgets": {
   "application/vnd.jupyter.widget-state+json": {
    "state": {},
    "version_major": 2,
    "version_minor": 0
   }
  }
 },
 "nbformat": 4,
 "nbformat_minor": 2
}
