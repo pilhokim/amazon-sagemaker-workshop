{
 "cells": [
  {
   "cell_type": "markdown",
   "metadata": {
    "collapsed": true
   },
   "source": [
    "# Korean parsing test using KoNLPy\n",
    "\n",
    "---\n",
    "\n",
    "In this notebook we will use http://konlpy.org/ko/latest/ for Koraen parsing test. Note that the Kernel should be set to 'conda_python2'."
   ]
  },
  {
   "cell_type": "code",
   "execution_count": 1,
   "metadata": {},
   "outputs": [
    {
     "name": "stdout",
     "output_type": "stream",
     "text": [
      "Requirement already up-to-date: pip in /home/ec2-user/anaconda3/envs/python2/lib/python2.7/site-packages (10.0.1)\n",
      "\u001b[31mdistributed 1.21.8 requires msgpack, which is not installed.\u001b[0m\n",
      "\u001b[31mgrin 1.2.1 requires argparse>=1.1, which is not installed.\u001b[0m\n"
     ]
    }
   ],
   "source": [
    "!pip install --upgrade pip"
   ]
  },
  {
   "cell_type": "code",
   "execution_count": 3,
   "metadata": {},
   "outputs": [
    {
     "name": "stdout",
     "output_type": "stream",
     "text": [
      "Requirement already satisfied: konlpy in /home/ec2-user/anaconda3/envs/python2/lib/python2.7/site-packages (0.4.4)\n",
      "Requirement already satisfied: JPype1>=0.5.7; python_version == \"2.6\" or python_version == \"2.7\" in /home/ec2-user/anaconda3/envs/python2/lib/python2.7/site-packages (from konlpy) (0.6.3)\n",
      "\u001b[31mdistributed 1.21.8 requires msgpack, which is not installed.\u001b[0m\n",
      "\u001b[31mgrin 1.2.1 requires argparse>=1.1, which is not installed.\u001b[0m\n",
      "Requirement already satisfied: JPype1 in /home/ec2-user/anaconda3/envs/python2/lib/python2.7/site-packages (0.6.3)\n",
      "\u001b[31mdistributed 1.21.8 requires msgpack, which is not installed.\u001b[0m\n",
      "\u001b[31mgrin 1.2.1 requires argparse>=1.1, which is not installed.\u001b[0m\n"
     ]
    }
   ],
   "source": [
    "!pip install konlpy\n",
    "!pip install JPype1"
   ]
  },
  {
   "cell_type": "code",
   "execution_count": 12,
   "metadata": {},
   "outputs": [
    {
     "name": "stdout",
     "output_type": "stream",
     "text": [
      "[네, 안녕하세요.,\n",
      " 반갑습니다.]\n",
      "[질문,\n",
      " 건의,\n",
      " 건의사항,\n",
      " 사항,\n",
      " 깃헙,\n",
      " 이슈,\n",
      " 트래커]\n",
      "[오류,\n",
      " 오류보고,\n",
      " 보고,\n",
      " 실행,\n",
      " 실행환경,\n",
      " 환경,\n",
      " 에러,\n",
      " 에러메세지,\n",
      " 메세지,\n",
      " 설명,\n",
      " 최대한]\n",
      "[오류,\n",
      " 보고,\n",
      " 는,\n",
      " 실행,\n",
      " 환경,\n",
      " ,,\n",
      " 에러,\n",
      " 메세지,\n",
      " 와,\n",
      " 함께,\n",
      " 설명,\n",
      " 을,\n",
      " 최대한,\n",
      " 상세히,\n",
      " !,\n",
      " ^^]\n",
      "[(오류, NNG),\n",
      " (보고, NNG),\n",
      " (는, JX),\n",
      " (실행, NNG),\n",
      " (환경, NNG),\n",
      " (,, SP),\n",
      " (에러, NNG),\n",
      " (메세지, NNG),\n",
      " (와, JKM),\n",
      " (함께, MAG),\n",
      " (설명, NNG),\n",
      " (을, JKO),\n",
      " (최대한, NNG),\n",
      " (상세히, MAG),\n",
      " (!, SF),\n",
      " (^^, EMO)]\n"
     ]
    }
   ],
   "source": [
    "from konlpy.tag import Kkma\n",
    "from konlpy.utils import pprint\n",
    "kkma = Kkma()\n",
    "pprint(kkma.sentences(u'네, 안녕하세요. 반갑습니다.'))\n",
    "pprint(kkma.nouns(u'질문이나 건의사항은 깃헙 이슈 트래커에 남겨주세요.'))\n",
    "pprint(kkma.nouns(u'오류보고는 실행환경, 에러메세지와함께 설명을 최대한상세히!^^'))\n",
    "pprint(kkma.morphs(u'오류보고는 실행환경, 에러메세지와함께 설명을 최대한상세히!^^'))\n",
    "pprint(kkma.pos(u'오류보고는 실행환경, 에러메세지와함께 설명을 최대한상세히!^^'))"
   ]
  },
  {
   "cell_type": "code",
   "execution_count": null,
   "metadata": {},
   "outputs": [],
   "source": []
  }
 ],
 "metadata": {
  "kernelspec": {
   "display_name": "conda_python2",
   "language": "python",
   "name": "conda_python2"
  },
  "language_info": {
   "codemirror_mode": {
    "name": "ipython",
    "version": 2
   },
   "file_extension": ".py",
   "mimetype": "text/x-python",
   "name": "python",
   "nbconvert_exporter": "python",
   "pygments_lexer": "ipython2",
   "version": "2.7.14"
  },
  "notice": "Copyright 2017 Amazon.com, Inc. or its affiliates. All Rights Reserved.  Licensed under the Apache License, Version 2.0 (the \"License\"). You may not use this file except in compliance with the License. A copy of the License is located at http://aws.amazon.com/apache2.0/ or in the \"license\" file accompanying this file. This file is distributed on an \"AS IS\" BASIS, WITHOUT WARRANTIES OR CONDITIONS OF ANY KIND, either express or implied. See the License for the specific language governing permissions and limitations under the License.",
  "widgets": {
   "application/vnd.jupyter.widget-state+json": {
    "state": {},
    "version_major": 2,
    "version_minor": 0
   }
  }
 },
 "nbformat": 4,
 "nbformat_minor": 2
}
